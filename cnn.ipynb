{
  "cells": [
    {
      "cell_type": "code",
      "source": [
        "!git clone https://github.com/muxspace/facial_expressions"
      ],
      "metadata": {
        "id": "wHdWgnFv_RFd",
        "outputId": "cfd5b00a-ede0-4fe9-dc8a-534312fbf4b9",
        "colab": {
          "base_uri": "https://localhost:8080/"
        }
      },
      "execution_count": null,
      "outputs": [
        {
          "output_type": "stream",
          "name": "stdout",
          "text": [
            "fatal: destination path 'facial_expressions' already exists and is not an empty directory.\n"
          ]
        }
      ]
    },
    {
      "cell_type": "code",
      "source": [
        "from matplotlib import pyplot as plt\n",
        "import numpy as np\n",
        "import pandas as pd\n",
        "import pathlib\n",
        "import cv2\n",
        "import pathlib\n",
        "import torch\n",
        "import torchvision.transforms as transforms\n",
        "from torchvision.io import read_image\n",
        "\n",
        "DATA_DIR = \"facial_expressions/data\"\n",
        "IMAGE_DIR = \"facial_expressions/images\"\n",
        "\n",
        "# Check for GPU\n",
        "device = torch.device('cuda:0' if torch.cuda.is_available() else 'cpu')\n",
        "print(device)"
      ],
      "metadata": {
        "colab": {
          "base_uri": "https://localhost:8080/"
        },
        "id": "kI0ke-AlFbMl",
        "outputId": "8decffae-f5b7-4e7b-a474-773d814c934a"
      },
      "execution_count": null,
      "outputs": [
        {
          "output_type": "stream",
          "name": "stdout",
          "text": [
            "cuda:0\n"
          ]
        }
      ]
    },
    {
      "cell_type": "code",
      "execution_count": null,
      "metadata": {
        "id": "sTbBx7xp_AZA"
      },
      "outputs": [],
      "source": [
        "data = pd.read_csv(f'{DATA_DIR}/legend.csv')\n",
        "# data = data.head(300)\n",
        "# data = pd.read_csv(f'{DATA_DIR}/500_picts_satz.csv', names=['user', 'image', 'emotion'])\n",
        "data['emotion'] = data['emotion'].str.lower()\n",
        "data.rename(columns={'image': 'path'}, inplace=True)"
      ]
    },
    {
      "cell_type": "code",
      "source": [
        "# filter out image with bad szie\n",
        "data = data[np.array([plt.imread(f'{IMAGE_DIR}/{path}').shape == (350, 350) for path in data['path']], dtype=bool)]\n",
        "data.reset_index(inplace=True)"
      ],
      "metadata": {
        "id": "o02voAFKHqmT"
      },
      "execution_count": null,
      "outputs": []
    },
    {
      "cell_type": "code",
      "execution_count": null,
      "metadata": {
        "id": "hTMK8yqr_AZE",
        "colab": {
          "base_uri": "https://localhost:8080/"
        },
        "outputId": "74e94176-4f98-4f5b-9745-ae911e347494"
      },
      "outputs": [
        {
          "output_type": "stream",
          "name": "stderr",
          "text": [
            "/usr/local/lib/python3.7/dist-packages/ipykernel_launcher.py:2: SettingWithCopyWarning: \n",
            "A value is trying to be set on a copy of a slice from a DataFrame.\n",
            "Try using .loc[row_indexer,col_indexer] = value instead\n",
            "\n",
            "See the caveats in the documentation: https://pandas.pydata.org/pandas-docs/stable/user_guide/indexing.html#returning-a-view-versus-a-copy\n",
            "  \n"
          ]
        }
      ],
      "source": [
        "classes = list(data['emotion'].unique())\n",
        "data['class'] = [classes.index(e) for e in data['emotion']]"
      ]
    },
    {
      "cell_type": "code",
      "source": [
        "total_size = len(data)\n",
        "train_ratio = 0.7\n",
        "train_size = int(total_size * train_ratio)\n",
        "# get random sample \n",
        "train_data = data.sample(frac=train_ratio, axis=0)\n",
        "# get everything but the train sample\n",
        "test_data = data.drop(index=train_data.index)\n",
        "# reset index\n",
        "train_data.reset_index(inplace=True)\n",
        "test_data.reset_index(inplace=True)"
      ],
      "metadata": {
        "id": "uX18hgdOLrH5"
      },
      "execution_count": null,
      "outputs": []
    },
    {
      "cell_type": "code",
      "execution_count": null,
      "metadata": {
        "id": "TQHZohUx_AZH"
      },
      "outputs": [],
      "source": [
        "from torch.utils.data import Dataset\n",
        "import pandas as pd\n",
        "import os\n",
        "from torchvision.io import read_image\n",
        "\n",
        "class FacialExpression(Dataset):\n",
        "  def __init__(self, data, img_dir=IMAGE_DIR, transform=None, target_transform=None):\n",
        "    self.data = data\n",
        "    self.img_dir = img_dir\n",
        "    self.img_labels = self.data['class']\n",
        "    self.transform = transform\n",
        "    self.target_transform = target_transform\n",
        "\n",
        "  def __len__(self):\n",
        "    # print(f\"my length {len(self.img_labels)}\")\n",
        "    return len(self.img_labels)\n",
        "\n",
        "  def __getitem__(self, idx):\n",
        "    # print(f\"getting image {idx}\")\n",
        "    path = f'{self.img_dir}/{self.data[\"path\"][idx]}'\n",
        "    image = plt.imread(path).astype('float32')\n",
        "\n",
        "    # print(f\"getting label {idx}\")\n",
        "    label = self.img_labels[idx]\n",
        "    # print(f\"got label {idx}\")\n",
        "    if self.transform:\n",
        "        image = self.transform(image)\n",
        "    if self.target_transform:\n",
        "        label = self.target_transform(label)\n",
        "    return image, label"
      ]
    },
    {
      "cell_type": "code",
      "execution_count": null,
      "metadata": {
        "id": "pNx4KO3W_AZH"
      },
      "outputs": [],
      "source": [
        "transform = transforms.Compose(\n",
        "    [transforms.ToTensor(),\n",
        "    #  transforms.Normalize((0.5), (0.5)),\n",
        "     ])\n",
        "trainset = FacialExpression(train_data, transform=transform)\n"
      ]
    },
    {
      "cell_type": "code",
      "execution_count": null,
      "metadata": {
        "id": "_O-l1ctO_AZI"
      },
      "outputs": [],
      "source": [
        "batch_size = 4\n",
        "trainloader = torch.utils.data.DataLoader(trainset, batch_size=batch_size,\n",
        "                                          shuffle=True, num_workers=2)"
      ]
    },
    {
      "cell_type": "code",
      "execution_count": null,
      "metadata": {
        "id": "zcYjsKL4_AZK"
      },
      "outputs": [],
      "source": [
        "import torch.nn as nn\n",
        "import torch.nn.functional as F\n",
        "\n",
        "\n",
        "class Net(nn.Module):\n",
        "    def __init__(self):\n",
        "        super().__init__()\n",
        "        self.conv1 = nn.Conv2d(1, 6, 5)\n",
        "        self.pool = nn.MaxPool2d(2)\n",
        "        self.conv2 = nn.Conv2d(6, 16, 5)\n",
        "        self.fc1 = nn.Linear(112896, 2000)\n",
        "        self.fc2 = nn.Linear(2000, 200)\n",
        "        self.fc3 = nn.Linear(200, len(classes))\n",
        "\n",
        "    def forward(self, x):\n",
        "        x = self.pool(F.relu(self.conv1(x)))\n",
        "        x = self.pool(F.relu(self.conv2(x)))\n",
        "        x = torch.flatten(x, 1) # flatten all dimensions except the batch dimension\n",
        "        x = F.relu(self.fc1(x))\n",
        "        x = F.relu(self.fc2(x))\n",
        "        x = self.fc3(x)\n",
        "        return x\n",
        "\n",
        "net = Net().to(device)"
      ]
    },
    {
      "cell_type": "code",
      "execution_count": null,
      "metadata": {
        "id": "Kq6Jmejz_AZL"
      },
      "outputs": [],
      "source": [
        "import torch.optim as optim\n",
        "\n",
        "criterion = nn.CrossEntropyLoss()\n",
        "optimizer = optim.SGD(net.parameters(), lr=0.001, momentum=0.9)\n",
        "# optimizer = optim.Adam(net.parameters())"
      ]
    },
    {
      "cell_type": "code",
      "execution_count": null,
      "metadata": {
        "id": "zvBZH_a6_AZM",
        "outputId": "be7496e4-cc24-4de7-a19f-0822cded2df9",
        "colab": {
          "base_uri": "https://localhost:8080/"
        }
      },
      "outputs": [
        {
          "output_type": "stream",
          "name": "stdout",
          "text": [
            "[1,   200] loss: 0.151\n",
            "[1,   400] loss: 0.126\n",
            "[1,   600] loss: 0.111\n",
            "[1,   800] loss: 0.093\n",
            "[1,  1000] loss: 0.088\n",
            "[1,  1200] loss: 0.091\n",
            "[1,  1400] loss: 0.082\n",
            "[1,  1600] loss: 0.087\n",
            "[1,  1800] loss: 0.073\n",
            "[1,  2000] loss: 0.077\n",
            "[1,  2200] loss: 0.081\n",
            "[2,   200] loss: 0.071\n",
            "[2,   400] loss: 0.073\n",
            "[2,   600] loss: 0.066\n",
            "[2,   800] loss: 0.069\n",
            "[2,  1000] loss: 0.075\n",
            "[2,  1200] loss: 0.064\n",
            "[2,  1400] loss: 0.071\n",
            "[2,  1600] loss: 0.075\n",
            "[2,  1800] loss: 0.067\n",
            "[2,  2000] loss: 0.064\n",
            "[2,  2200] loss: 0.070\n",
            "Finished Training\n"
          ]
        }
      ],
      "source": [
        "for epoch in range(2):  # loop over the dataset multiple times\n",
        "\n",
        "  running_loss = 0.0\n",
        "  for i, (inputs, labels) in enumerate(trainloader, 0):\n",
        "    # get the inputs; data is a list of [inputs, labels]\n",
        "    inputs, labels = inputs.to(device), labels.to(device)\n",
        "\n",
        "    # zero the parameter gradients\n",
        "    optimizer.zero_grad()\n",
        "\n",
        "    # forward + backward + optimize\n",
        "    outputs = net(inputs)\n",
        "    loss = criterion(outputs, labels)\n",
        "    loss.backward()\n",
        "\n",
        "    # https://stackoverflow.com/a/66659607\n",
        "    torch.nn.utils.clip_grad_norm_(net.parameters(), 5)\n",
        "    optimizer.step()\n",
        "\n",
        "    # print statistics\n",
        "    running_loss += loss.item()\n",
        "    if i % 200 == 199:    # print every 2000 mini-batches\n",
        "      print(f'[{epoch + 1}, {i + 1:5d}] loss: {running_loss / 2000:.3f}')\n",
        "      running_loss = 0.0\n",
        "\n",
        "print('Finished Training')"
      ]
    },
    {
      "cell_type": "code",
      "execution_count": null,
      "metadata": {
        "id": "huFFRlxP_AZN"
      },
      "outputs": [],
      "source": [
        "testset = FacialExpression(test_data, transform=transform)\n",
        "testloader = torch.utils.data.DataLoader(testset, batch_size=batch_size,\n",
        "                                         shuffle=False, num_workers=2)"
      ]
    },
    {
      "cell_type": "code",
      "source": [
        "correct = 0\n",
        "total = 0\n",
        "# since we're not training, we don't need to calculate the gradients for our outputs\n",
        "with torch.no_grad():\n",
        "    for data in testloader:\n",
        "        images, labels = data\n",
        "        # calculate outputs by running images through the network\n",
        "        outputs = net(images.to(device)).to('cpu')\n",
        "        # the class with the highest energy is what we choose as prediction\n",
        "        _, predicted = torch.max(outputs.data, 1)\n",
        "        # print(labels[0])\n",
        "        # print(outputs.data[0])\n",
        "        # break\n",
        "        total += labels.size(0)\n",
        "        correct += (predicted == labels).sum().item()\n",
        "print(f'Accuracy of the network on the {len(test_data)} test images: {100 * correct // total} %')"
      ],
      "metadata": {
        "id": "hwGgz0CjFXAa",
        "colab": {
          "base_uri": "https://localhost:8080/"
        },
        "outputId": "95683c2e-288c-4c7d-90d5-6494ac39c05f"
      },
      "execution_count": null,
      "outputs": [
        {
          "output_type": "stream",
          "name": "stdout",
          "text": [
            "Accuracy of the network on the 3829 test images: 78 %\n",
            "Accuracy of the network on the 3829 test images: 2 %\n"
          ]
        }
      ]
    },
    {
      "cell_type": "code",
      "source": [
        "correct = 0\n",
        "total = 0\n",
        "# since we're not training, we don't need to calculate the gradients for our outputs\n",
        "with torch.no_grad():\n",
        "    for data in trainloader:\n",
        "        images, labels = data\n",
        "        # calculate outputs by running images through the network\n",
        "        outputs = net(images.to(device)).to('cpu')\n",
        "        # the class with the highest energy is what we choose as prediction\n",
        "        _, predicted = torch.max(outputs.data, 1)\n",
        "        total += labels.size(0)\n",
        "        correct += (predicted == labels).sum().item()\n",
        "print(f'Accuracy of the network on the {len(train_data)} train images: {100 * correct // total} %')"
      ],
      "metadata": {
        "colab": {
          "base_uri": "https://localhost:8080/"
        },
        "id": "kprnVhgh3yTe",
        "outputId": "cabaebed-6df7-4e35-c5fa-1283f95f171b"
      },
      "execution_count": null,
      "outputs": [
        {
          "output_type": "stream",
          "name": "stdout",
          "text": [
            "Accuracy of the network on the 8936 train images: 85 %\n",
            "Accuracy of the network on the 8936 train images: 2 %\n"
          ]
        }
      ]
    },
    {
      "cell_type": "code",
      "source": [
        "# prepare to count predictions for each class\n",
        "correct_pred = {classname: 0 for classname in classes}\n",
        "total_pred = {classname: 0 for classname in classes}\n",
        "\n",
        "# again no gradients needed\n",
        "with torch.no_grad():\n",
        "    for data in testloader:\n",
        "        images, labels = data\n",
        "        outputs = net(images.to(device)).to('cpu')\n",
        "        _, predictions = torch.max(outputs, 1)\n",
        "        # collect the correct predictions for each class\n",
        "        for label, prediction in zip(labels, predictions):\n",
        "            if label == prediction:\n",
        "                correct_pred[classes[label]] += 1\n",
        "            total_pred[classes[label]] += 1\n",
        "\n",
        "\n",
        "# print accuracy for each class\n",
        "for classname, correct_count in correct_pred.items():\n",
        "    accuracy = 100 * float(correct_count) / total_pred[classname]\n",
        "    print(f'Accuracy for class: {classname:5s} is {accuracy:.1f} %')"
      ],
      "metadata": {
        "colab": {
          "base_uri": "https://localhost:8080/"
        },
        "id": "ODklZoJZ69s1",
        "outputId": "aa5d3822-3976-4d0f-9c1c-64b0f268cbcc"
      },
      "execution_count": null,
      "outputs": [
        {
          "output_type": "stream",
          "name": "stdout",
          "text": [
            "Accuracy for class: neutral is 88.8 %\n",
            "Accuracy for class: happiness is 77.1 %\n",
            "Accuracy for class: surprise is 9.1 %\n",
            "Accuracy for class: sadness is 0.0 %\n",
            "Accuracy for class: anger is 0.0 %\n",
            "Accuracy for class: contempt is 0.0 %\n",
            "Accuracy for class: disgust is 0.0 %\n",
            "Accuracy for class: fear  is 0.0 %\n",
            "Accuracy for class: neutral is 0.0 %\n",
            "Accuracy for class: happiness is 0.2 %\n",
            "Accuracy for class: surprise is 89.5 %\n",
            "Accuracy for class: sadness is 0.0 %\n",
            "Accuracy for class: anger is 0.0 %\n",
            "Accuracy for class: contempt is 0.0 %\n",
            "Accuracy for class: disgust is 0.0 %\n",
            "Accuracy for class: fear  is 0.0 %\n"
          ]
        }
      ]
    }
  ],
  "metadata": {
    "kernelspec": {
      "display_name": "Python 3 (ipykernel)",
      "language": "python",
      "name": "python3"
    },
    "language_info": {
      "codemirror_mode": {
        "name": "ipython",
        "version": 3
      },
      "file_extension": ".py",
      "mimetype": "text/x-python",
      "name": "python",
      "nbconvert_exporter": "python",
      "pygments_lexer": "ipython3",
      "version": "3.10.6"
    },
    "vscode": {
      "interpreter": {
        "hash": "916dbcbb3f70747c44a77c7bcd40155683ae19c65e1c03b4aa3499c5328201f1"
      }
    },
    "colab": {
      "provenance": []
    },
    "accelerator": "GPU",
    "gpuClass": "standard"
  },
  "nbformat": 4,
  "nbformat_minor": 0
}