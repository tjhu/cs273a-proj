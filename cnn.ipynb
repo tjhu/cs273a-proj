{
 "cells": [
  {
   "cell_type": "code",
   "execution_count": 3,
   "metadata": {},
   "outputs": [],
   "source": [
    "from matplotlib import pyplot as plt\n",
    "import numpy as np\n",
    "import pandas as pd\n",
    "import pathlib\n",
    "import cv2\n",
    "import pathlib\n",
    "import torch\n",
    "import torchvision.transforms as transforms\n",
    "import cv2\n",
    "\n",
    "DATA_DIR = \"facial_expressions/data\"\n",
    "IMAGE_DIR = \"facial_expressions/images\"\n",
    "\n",
    "legend = pd.read_csv(f'{DATA_DIR}/legend.csv')\n",
    "legend['emotion'] = legend['emotion'].str.lower()\n",
    "image_paths = list(pathlib.Path(IMAGE_DIR).glob('*.jpg'))\n",
    "images = [plt.imread(str(path)) for path in image_paths]"
   ]
  },
  {
   "cell_type": "code",
   "execution_count": 4,
   "metadata": {},
   "outputs": [],
   "source": [
    "import torch\n",
    "data = pd.DataFrame({\"path\": [p.name for p in image_paths], \"image\": images})\n",
    "data = data.join(legend.set_index('image'), on='path')"
   ]
  },
  {
   "cell_type": "code",
   "execution_count": 5,
   "metadata": {},
   "outputs": [
    {
     "name": "stderr",
     "output_type": "stream",
     "text": [
      "/tmp/ipykernel_34462/2838368823.py:1: UserWarning: Creating a tensor from a list of numpy.ndarrays is extremely slow. Please consider converting the list to a single numpy.ndarray with numpy.array() before converting to a tensor. (Triggered internally at ../torch/csrc/utils/tensor_new.cpp:230.)\n",
      "  tensor_img = torch.Tensor(data['image'])\n"
     ]
    },
    {
     "ename": "ValueError",
     "evalue": "expected sequence of length 350 at dim 1 (got 134)",
     "output_type": "error",
     "traceback": [
      "\u001b[0;31m---------------------------------------------------------------------------\u001b[0m",
      "\u001b[0;31mValueError\u001b[0m                                Traceback (most recent call last)",
      "Cell \u001b[0;32mIn [5], line 1\u001b[0m\n\u001b[0;32m----> 1\u001b[0m tensor_img \u001b[39m=\u001b[39m torch\u001b[39m.\u001b[39;49mTensor(data[\u001b[39m'\u001b[39;49m\u001b[39mimage\u001b[39;49m\u001b[39m'\u001b[39;49m])\n\u001b[1;32m      2\u001b[0m tensor_label \u001b[39m=\u001b[39m torch\u001b[39m.\u001b[39mTensor(data[\u001b[39m'\u001b[39m\u001b[39memotion\u001b[39m\u001b[39m'\u001b[39m])\n",
      "\u001b[0;31mValueError\u001b[0m: expected sequence of length 350 at dim 1 (got 134)"
     ]
    }
   ],
   "source": [
    "tensor_img = torch.Tensor(data['image'])\n",
    "tensor_label = torch.Tensor(data['emotion'])"
   ]
  },
  {
   "cell_type": "code",
   "execution_count": 12,
   "metadata": {},
   "outputs": [
    {
     "name": "stderr",
     "output_type": "stream",
     "text": [
      "/tmp/ipykernel_34462/622740629.py:2: VisibleDeprecationWarning: Creating an ndarray from ragged nested sequences (which is a list-or-tuple of lists-or-tuples-or ndarrays with different lengths or shapes) is deprecated. If you meant to do this, you must specify 'dtype=object' when creating the ndarray.\n",
      "  a = np.array(images)\n"
     ]
    }
   ],
   "source": [
    "import numpy as np\n",
    "a = np.array(images)"
   ]
  },
  {
   "cell_type": "code",
   "execution_count": 14,
   "metadata": {},
   "outputs": [
    {
     "ename": "ValueError",
     "evalue": "only one element tensors can be converted to Python scalars",
     "output_type": "error",
     "traceback": [
      "\u001b[0;31m---------------------------------------------------------------------------\u001b[0m",
      "\u001b[0;31mValueError\u001b[0m                                Traceback (most recent call last)",
      "Cell \u001b[0;32mIn [14], line 4\u001b[0m\n\u001b[1;32m      2\u001b[0m convert_tensors \u001b[39m=\u001b[39m np\u001b[39m.\u001b[39mvectorize(convert_tensor)\n\u001b[1;32m      3\u001b[0m ts \u001b[39m=\u001b[39m [convert_tensor(img) \u001b[39mfor\u001b[39;00m img \u001b[39min\u001b[39;00m images]\n\u001b[0;32m----> 4\u001b[0m tensor_big \u001b[39m=\u001b[39m torch\u001b[39m.\u001b[39;49mTensor(ts)\n",
      "\u001b[0;31mValueError\u001b[0m: only one element tensors can be converted to Python scalars"
     ]
    }
   ],
   "source": [
    "convert_tensor = transforms.ToTensor()\n",
    "convert_tensors = np.vectorize(convert_tensor)\n",
    "ts = [convert_tensor(img) for img in images]\n",
    "tensor_big = torch.Tensor(ts)"
   ]
  },
  {
   "cell_type": "code",
   "execution_count": 15,
   "metadata": {},
   "outputs": [
    {
     "data": {
      "text/plain": [
       "(24, 25, 3)"
      ]
     },
     "execution_count": 15,
     "metadata": {},
     "output_type": "execute_result"
    }
   ],
   "source": [
    "min((x.shape for x in images))",
    "import torch\n",
    "df = pd.DataFrame({\"path\": [p.name for p in image_paths], \"image\": images}, dtype='')\n",
    "df.join(data.set_index('image'), on='path')"
   ]
  },
  {
   "cell_type": "code",
   "execution_count": 16,
   "metadata": {},
   "outputs": [
    {
     "data": {
      "text/plain": [
       "(536, 356, 3)"
      ]
     },
     "execution_count": 16,
     "metadata": {},
     "output_type": "execute_result"
    }
   ],
   "source": [
    "max((x.shape for x in images))"
   ]
  },
  {
   "cell_type": "code",
   "execution_count": 17,
   "metadata": {},
   "outputs": [],
   "source": [
    "from torch.utils.data import Dataset\n",
    "import pandas as pd\n",
    "import os\n",
    "from torchvision.io import read_image\n",
    "\n",
    "class FacialExpression(Dataset):\n",
    "  def __init__(self, annotations_file=f'{DATA_DIR}/legend.csv', img_dir=IMAGE_DIR, transform=None, target_transform=None):\n",
    "    self.img_labels = pd.read_csv(annotations_file)\n",
    "    self.img_dir = img_dir\n",
    "    self.transform = transform\n",
    "    self.target_transform = target_transform\n",
    "\n",
    "  def __len__(self):\n",
    "    return len(self.img_labels)\n",
    "\n",
    "  def __getitem__(self, idx):\n",
    "    img_path = os.path.join(self.img_dir, self.img_labels.iloc[idx, 0])\n",
    "    image = read_image(img_path)\n",
    "    label = self.img_labels.iloc[idx, 1]\n",
    "    if self.transform:\n",
    "        image = self.transform(image)\n",
    "    if self.target_transform:\n",
    "        label = self.target_transform(label)\n",
    "    return image, label"
   ]
  },
  {
   "cell_type": "code",
   "execution_count": 18,
   "metadata": {},
   "outputs": [],
   "source": [
    "fe = FacialExpression()"
   ]
  },
  {
   "cell_type": "code",
   "execution_count": null,
   "metadata": {},
   "outputs": [],
   "source": []
  }
 ],
 "metadata": {
  "kernelspec": {
   "display_name": "Python 3 (ipykernel)",
   "language": "python",
   "name": "python3"
  },
  "language_info": {
   "codemirror_mode": {
    "name": "ipython",
    "version": 3
   },
   "file_extension": ".py",
   "mimetype": "text/x-python",
   "name": "python",
   "nbconvert_exporter": "python",
   "pygments_lexer": "ipython3",
   "version": "3.10.7"
  },
  "vscode": {
   "interpreter": {
    "hash": "916dbcbb3f70747c44a77c7bcd40155683ae19c65e1c03b4aa3499c5328201f1"
   }
  }
 },
 "nbformat": 4,
 "nbformat_minor": 2
}
