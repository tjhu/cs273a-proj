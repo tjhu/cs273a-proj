{
 "cells": [
  {
   "cell_type": "code",
   "execution_count": 1,
   "id": "4292a3b2",
   "metadata": {},
   "outputs": [],
   "source": [
    "# sci-kit image documentation: \n",
    "# https://scikit-image.org/docs/dev/auto_examples/applications/plot_haar_extraction_selection_classification.html\n",
    "import sys\n",
    "from time import time\n",
    "\n",
    "import numpy as np\n",
    "import matplotlib.pyplot as plt\n",
    "\n",
    "from dask import delayed\n",
    "\n",
    "from sklearn.ensemble import RandomForestClassifier\n",
    "from sklearn.model_selection import train_test_split\n",
    "from sklearn.metrics import roc_auc_score\n",
    "\n",
    "from skimage.data import lfw_subset\n",
    "from skimage.transform import integral_image\n",
    "from skimage.feature import haar_like_feature\n",
    "from skimage.feature import haar_like_feature_coord\n",
    "from skimage.feature import draw_haar_like_feature\n",
    "\n",
    "# for loading and preprocessing images\n",
    "import pandas as pd\n",
    "from PIL import Image\n",
    "import pathlib"
   ]
  },
  {
   "cell_type": "code",
   "execution_count": 2,
   "id": "23de82ba",
   "metadata": {},
   "outputs": [],
   "source": [
    "@delayed\n",
    "def extract_feature_image(img, feature_type, feature_coord=None):\n",
    "    \"\"\"Extract the haar feature for the current image\"\"\"\n",
    "    ii = integral_image(img)\n",
    "    return haar_like_feature(ii, 0, 0, ii.shape[0], ii.shape[1],\n",
    "                             feature_type=feature_type,\n",
    "                             feature_coord=feature_coord)"
   ]
  },
  {
   "cell_type": "code",
   "execution_count": 3,
   "id": "e9d51621",
   "metadata": {},
   "outputs": [],
   "source": [
    "def err(Y1, Y2):\n",
    "    return np.mean(Y1!=Y2)"
   ]
  },
  {
   "cell_type": "code",
   "execution_count": 4,
   "id": "08ee35e3",
   "metadata": {},
   "outputs": [],
   "source": [
    "# loading data\n",
    "DATA_DIR = \"facial_expressions/data\"\n",
    "IMAGE_DIR = \"facial_expressions/images\"\n",
    "data = pd.read_csv(f'{DATA_DIR}/legend.csv')\n",
    "data['emotion'] = data['emotion'].str.lower()\n",
    "# prepping datasets\n",
    "X_temp = []\n",
    "# ran into too many files open error: https://stackoverflow.com/questions/29234413/too-many-open-files-error-when-opening-and-loading-images-in-pillow\n",
    "# find the minimum width and height and I can resize all images to that shape\n",
    "min_width = 1000\n",
    "min_height = 1000\n",
    "for image in data['image']:\n",
    "    temp = Image.open(IMAGE_DIR + '/' + image)\n",
    "    keep = temp.copy().convert('L')\n",
    "    min_width = min(min_width, keep.size[0])\n",
    "    min_height = min(min_height, keep.size[1])\n",
    "    X_temp.append(keep)\n",
    "    temp.close()\n",
    "images = np.array([np.asarray(image.resize((min_width, min_height))) for image in X_temp])"
   ]
  },
  {
   "cell_type": "code",
   "execution_count": 5,
   "id": "f179fe4e",
   "metadata": {},
   "outputs": [],
   "source": [
    "# training\n",
    "# all feature types\n",
    "feature_types = ['type-2-x', 'type-2-y']\n",
    "# Build a computation graph using Dask. This allows the use of multiple\n",
    "# CPU cores later during the actual computation\n",
    "X = delayed(extract_feature_image(img, feature_types) for img in images)\n",
    "\n",
    "# Compute the result\n",
    "t_start = time()\n",
    "X = np.array(X.compute(scheduler='single-threaded'))\n",
    "time_full_feature_comp = time() - t_start\n",
    "\n",
    "# Label images with emotion\n",
    "Y = np.array(data['emotion'])\n",
    "\n",
    "# spliting data in to training and validation sets\n",
    "split_factor = 0.8\n",
    "stop = int(split_factor * len(X))\n",
    "X_train, X_test, Y_train, Y_test = train_test_split(X, Y, train_size=stop,\n",
    "                                                    random_state=0,\n",
    "                                                    stratify=Y)\n",
    "\n",
    "# Extract all possible features\n",
    "feature_coord, feature_type = haar_like_feature_coord(width=images.shape[2],height=images.shape[1],feature_type=feature_types)\n",
    "\n",
    "# Train a random forest classifier and assess its performance\n",
    "clf = RandomForestClassifier(n_estimators=1000, max_depth=None,\n",
    "                             max_features=100, n_jobs=-1, random_state=0)\n",
    "t_start = time()\n",
    "clf.fit(X_train, Y_train)\n",
    "time_full_train = time() - t_start\n"
   ]
  },
  {
   "cell_type": "code",
   "execution_count": 6,
   "id": "b8bd4737",
   "metadata": {},
   "outputs": [
    {
     "data": {
      "image/png": "[encoded data removed]",
      "text/plain": [
       "<Figure size 640x480 with 6 Axes>"
      ]
     },
     "metadata": {},
     "output_type": "display_data"
    }
   ],
   "source": [
    "Y_predict = clf.predict(X_test)\n",
    "accuracy_rate = 1 - err(Y_predict, Y_test)\n",
    "\n",
    "# Sort features in order of importance and plot the six most significant\n",
    "idx_sorted = np.argsort(clf.feature_importances_)[::-1]\n",
    "\n",
    "fig, axes = plt.subplots(3, 2)\n",
    "for idx, ax in enumerate(axes.ravel()):\n",
    "    image = images[0]\n",
    "    image = draw_haar_like_feature(image, 0, 0,\n",
    "                                   images.shape[2],\n",
    "                                   images.shape[1],\n",
    "                                   [feature_coord[idx_sorted[idx]]])\n",
    "    ax.imshow(image)\n",
    "    ax.set_xticks([])\n",
    "    ax.set_yticks([])\n",
    "\n",
    "_ = fig.suptitle('The most important features')\n",
    "plt.show()"
   ]
  },
  {
   "cell_type": "code",
   "execution_count": 7,
   "id": "6ea09452",
   "metadata": {},
   "outputs": [
    {
     "name": "stdout",
     "output_type": "stream",
     "text": [
      "21305 features, or 43.5%, account for 70% of branch points in the random forest.\n"
     ]
    }
   ],
   "source": [
    "cdf_feature_importances = np.cumsum(clf.feature_importances_[idx_sorted])\n",
    "cdf_feature_importances /= cdf_feature_importances[-1]  # divide by max value\n",
    "sig_feature_count = np.count_nonzero(cdf_feature_importances < 0.7)\n",
    "sig_feature_percent = round(sig_feature_count /\n",
    "                            len(cdf_feature_importances) * 100, 1)\n",
    "print(f'{sig_feature_count} features, or {sig_feature_percent}%, '\n",
    "       f'account for 70% of branch points in the random forest.')\n",
    "\n",
    "# Select the determined number of most informative features\n",
    "feature_coord_sel = feature_coord[idx_sorted[:sig_feature_count]]\n",
    "feature_type_sel = feature_type[idx_sorted[:sig_feature_count]]\n",
    "# Note: it is also possible to select the features directly from the matrix X,\n",
    "# but we would like to emphasize the usage of `feature_coord` and `feature_type`\n",
    "# to recompute a subset of desired features.\n",
    "\n",
    "# Build the computational graph using Dask\n",
    "X = delayed(extract_feature_image(img, feature_type_sel, feature_coord_sel)\n",
    "            for img in images)\n",
    "# Compute the result\n",
    "t_start = time()\n",
    "X = np.array(X.compute(scheduler='single-threaded'))\n",
    "time_subs_feature_comp = time() - t_start\n",
    "\n",
    "X_train, X_test, Y_train, Y_test = train_test_split(X, Y, train_size=stop,\n",
    "                                                    random_state=0,\n",
    "                                                    stratify=Y)"
   ]
  },
  {
   "cell_type": "code",
   "execution_count": 8,
   "id": "3f7cde91",
   "metadata": {},
   "outputs": [
    {
     "name": "stdout",
     "output_type": "stream",
     "text": [
      "Computing the full feature set took 654.689s, plus 86.175s training with an accuracy rate of 0.76. Computing the restricted feature set took 92.391s, plus 75.536s training with an accuracy rate of 0.76. \n"
     ]
    }
   ],
   "source": [
    "t_start = time()\n",
    "clf.fit(X_train, Y_train)\n",
    "time_subs_train = time() - t_start\n",
    "\n",
    "Y_predict = clf.predict(X_test)\n",
    "sub_accuracy_rate = 1 - err(Y_predict, Y_test)\n",
    "\n",
    "summary = (f'Computing the full feature set took '\n",
    "            f'{time_full_feature_comp:.3f}s, '\n",
    "            f'plus {time_full_train:.3f}s training '\n",
    "            f'with an accuracy rate of {accuracy_rate:.2f}. '\n",
    "            f'Computing the restricted feature set took '\n",
    "            f'{time_subs_feature_comp:.3f}s, plus {time_subs_train:.3f}s training '\n",
    "            f'with an accuracy rate of {sub_accuracy_rate:.2f}. '\n",
    "          )\n",
    "\n",
    "print(summary)\n",
    "print('Training Error: ')\n",
    "plt.show()"
   ]
  },
  {
   "cell_type": "code",
   "execution_count": null,
   "id": "f36cf5da",
   "metadata": {},
   "outputs": [],
   "source": []
  }
 ],
 "metadata": {
  "kernelspec": {
   "display_name": "Python 3 (ipykernel)",
   "language": "python",
   "name": "python3"
  },
  "language_info": {
   "codemirror_mode": {
    "name": "ipython",
    "version": 3
   },
   "file_extension": ".py",
   "mimetype": "text/x-python",
   "name": "python",
   "nbconvert_exporter": "python",
   "pygments_lexer": "ipython3",
   "version": "3.10.7"
  }
 },
 "nbformat": 4,
 "nbformat_minor": 5
}
