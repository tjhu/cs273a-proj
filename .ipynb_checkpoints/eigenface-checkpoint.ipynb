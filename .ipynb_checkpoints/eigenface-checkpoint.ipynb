{
 "cells": [
  {
   "cell_type": "code",
   "execution_count": 56,
   "id": "ca05ac35",
   "metadata": {},
   "outputs": [],
   "source": [
    "from matplotlib import pyplot as plt\n",
    "import numpy as np\n",
    "from numpy import atleast_2d as twod\n",
    "import pandas as pd\n",
    "from skimage import color\n",
    "from PIL import Image\n",
    "import pathlib"
   ]
  },
  {
   "cell_type": "code",
   "execution_count": 57,
   "id": "9f8bd932",
   "metadata": {},
   "outputs": [],
   "source": [
    "# Loading data\n",
    "DATA_DIR = \"facial_expressions/data\"\n",
    "IMAGE_DIR = \"facial_expressions/images\"\n",
    "data = pd.read_csv(f'{DATA_DIR}/legend.csv')\n",
    "data['emotion'] = data['emotion'].str.lower()\n",
    "# data['image'] = np.array([plt.imread(IMAGE_DIR + '/' + image) for image in data['image']], dtype=object)\n",
    "# data['image'] = np.array([color.rgb2gray(image) if len(image.shape)==3 else image for image in data['image']], dtype=object)"
   ]
  },
  {
   "cell_type": "code",
   "execution_count": 74,
   "id": "233ba0b8",
   "metadata": {},
   "outputs": [],
   "source": [
    "# Prepping training datasets\n",
    "X = []\n",
    "# Ran into too many files open error: https://stackoverflow.com/questions/29234413/too-many-open-files-error-when-opening-and-loading-images-in-pillow\n",
    "# find the minimum width and height and I can resize all images to that shape\n",
    "min_width = 1000\n",
    "min_height = 1000\n",
    "temp_image = None\n",
    "for image in data['image']:\n",
    "    temp = Image.open(IMAGE_DIR + '/' + image)\n",
    "    keep = temp.copy().convert('L')\n",
    "    if keep.size[0] == 18:\n",
    "        temp_image = keep\n",
    "    min_width = min(min_width, keep.size[0])\n",
    "    min_height = min(min_height, keep.size[1])\n",
    "    X.append(keep)\n",
    "    temp.close()"
   ]
  },
  {
   "cell_type": "code",
   "execution_count": 75,
   "id": "db6e32c2",
   "metadata": {},
   "outputs": [],
   "source": [
    "# Steps from Wikipedia: https://en.wikipedia.org/wiki/Eigenface\n",
    "# All images should be resampled to a common pixel resolution\n",
    "X = [image.resize((min_width, min_height)) for image in X]"
   ]
  },
  {
   "cell_type": "code",
   "execution_count": 73,
   "id": "f7bb6d87",
   "metadata": {},
   "outputs": [],
   "source": [
    "# Each image will be treated as a vector, concatenate all rows in an image to a single column\n",
    "# Store all images in the training set into one matrix, T\n",
    "# X = np.array([])\n",
    "# Y = np.array(data['emotion'])\n",
    "# classes = np.array(set(Y))\n",
    "# # Spliting data in to training and validation sets\n",
    "# split_factor = 0.8\n",
    "# stop = int(split_factor * len(X))\n",
    "# Xtr,Xva = X[:stop],X[stop:]\n",
    "# Ytr,Yva = Y[:stop],Y[stop:]"
   ]
  },
  {
   "cell_type": "code",
   "execution_count": 43,
   "id": "55d2361d",
   "metadata": {},
   "outputs": [],
   "source": [
    "# Train the model\n",
    "# Calculate average image and subtract that from each original image/column in T\n",
    "# Calculate the eigenvectors and eigenvalues of the covariance matrix of the new matrix\n",
    "# Sort eigenvalues in descending order"
   ]
  },
  {
   "cell_type": "code",
   "execution_count": 81,
   "id": "736db726",
   "metadata": {},
   "outputs": [
    {
     "name": "stdout",
     "output_type": "stream",
     "text": [
      "18\n"
     ]
    }
   ],
   "source": [
    "# Use the train model to predict emotion on validation data set\n",
    "# Calculate performance\n",
    "print(min_width)"
   ]
  },
  {
   "cell_type": "code",
   "execution_count": 80,
   "id": "9161b39c",
   "metadata": {},
   "outputs": [
    {
     "data": {
      "image/png": "[encoded data removed]",
      "text/plain": [
       "<Figure size 640x480 with 1 Axes>"
      ]
     },
     "metadata": {},
     "output_type": "display_data"
    }
   ],
   "source": [
    "plt.imshow(X[1], cmap=\"gray\")\n",
    "plt.axis('off')\n",
    "plt.show()"
   ]
  },
  {
   "cell_type": "code",
   "execution_count": null,
   "id": "0c0ea236",
   "metadata": {},
   "outputs": [],
   "source": []
  }
 ],
 "metadata": {
  "kernelspec": {
   "display_name": "Python 3 (ipykernel)",
   "language": "python",
   "name": "python3"
  },
  "language_info": {
   "codemirror_mode": {
    "name": "ipython",
    "version": 3
   },
   "file_extension": ".py",
   "mimetype": "text/x-python",
   "name": "python",
   "nbconvert_exporter": "python",
   "pygments_lexer": "ipython3",
   "version": "3.10.7"
  }
 },
 "nbformat": 4,
 "nbformat_minor": 5
}
