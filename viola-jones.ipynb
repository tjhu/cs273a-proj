{
 "cells": [
  {
   "cell_type": "code",
   "execution_count": 93,
   "id": "ca05ac35",
   "metadata": {},
   "outputs": [],
   "source": [
    "from matplotlib import pyplot as plt\n",
    "import numpy as np\n",
    "from numpy import atleast_2d as twod\n",
    "import pandas as pd\n",
    "from skimage import color\n",
    "import pathlib"
   ]
  },
  {
   "cell_type": "code",
   "execution_count": 94,
   "id": "9f8bd932",
   "metadata": {},
   "outputs": [],
   "source": [
    "# Loading data\n",
    "DATA_DIR = \"facial_expressions/data\"\n",
    "IMAGE_DIR = \"facial_expressions/images\"\n",
    "data = pd.read_csv(f'{DATA_DIR}/legend.csv')"
   ]
  },
  {
   "cell_type": "code",
   "execution_count": 98,
   "id": "233ba0b8",
   "metadata": {},
   "outputs": [],
   "source": [
    "# Spliting data in to training and validation sets\n",
    "X = np.array([plt.imread(IMAGE_DIR + '/' + image) for image in data['image']], dtype=object)\n",
    "Y = np.array(data['emotion'].str.lower())\n",
    "# Split Factor = 0.8\n",
    "stop = int(0.8 * len(X))\n",
    "Xtr,Xva = X[:stop],X[stop:]\n",
    "Ytr,Yva = Y[:stop],Y[stop:]\n",
    "# plt.imshow(color.rgb2gray(X[0]), cmap='gray')\n",
    "# plt.axis('off')\n",
    "# plt.show()"
   ]
  },
  {
   "cell_type": "code",
   "execution_count": 96,
   "id": "55d2361d",
   "metadata": {},
   "outputs": [
    {
     "name": "stdout",
     "output_type": "stream",
     "text": [
      "[1]\n"
     ]
    }
   ],
   "source": [
    "# Train the model\n",
    "# Use Adaboost to find good features\n",
    "# Then train the models with those features"
   ]
  },
  {
   "cell_type": "code",
   "execution_count": 99,
   "id": "736db726",
   "metadata": {},
   "outputs": [],
   "source": [
    "# Use the train model to predict emotion on validation data set\n",
    "# Calculate performance"
   ]
  },
  {
   "cell_type": "code",
   "execution_count": null,
   "id": "0bb0adc6",
   "metadata": {},
   "outputs": [],
   "source": []
  }
 ],
 "metadata": {
  "kernelspec": {
   "display_name": "Python 3 (ipykernel)",
   "language": "python",
   "name": "python3"
  },
  "language_info": {
   "codemirror_mode": {
    "name": "ipython",
    "version": 3
   },
   "file_extension": ".py",
   "mimetype": "text/x-python",
   "name": "python",
   "nbconvert_exporter": "python",
   "pygments_lexer": "ipython3",
   "version": "3.10.7"
  }
 },
 "nbformat": 4,
 "nbformat_minor": 5
}
