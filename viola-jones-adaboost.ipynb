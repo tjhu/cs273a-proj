{
 "cells": [
  {
   "cell_type": "code",
   "execution_count": 1,
   "id": "4292a3b2",
   "metadata": {},
   "outputs": [],
   "source": [
    "# sci-kit image documentation: \n",
    "# https://scikit-image.org/docs/dev/auto_examples/applications/plot_haar_extraction_selection_classification.html\n",
    "import sys\n",
    "from time import time\n",
    "\n",
    "import numpy as np\n",
    "import matplotlib.pyplot as plt\n",
    "\n",
    "from dask import delayed\n",
    "\n",
    "from sklearn.ensemble import AdaBoostClassifier\n",
    "from sklearn.model_selection import train_test_split\n",
    "from sklearn.metrics import roc_auc_score\n",
    "\n",
    "from skimage.data import lfw_subset\n",
    "from skimage.transform import integral_image\n",
    "from skimage.feature import haar_like_feature\n",
    "from skimage.feature import haar_like_feature_coord\n",
    "from skimage.feature import draw_haar_like_feature\n",
    "\n",
    "# for loading and preprocessing images\n",
    "import pandas as pd\n",
    "from PIL import Image\n",
    "import pathlib"
   ]
  },
  {
   "cell_type": "code",
   "execution_count": 2,
   "id": "23de82ba",
   "metadata": {},
   "outputs": [],
   "source": [
    "@delayed\n",
    "def extract_feature_image(img, feature_type, feature_coord=None):\n",
    "    \"\"\"Extract the haar feature for the current image\"\"\"\n",
    "    ii = integral_image(img)\n",
    "    return haar_like_feature(ii, 0, 0, ii.shape[0], ii.shape[1], feature_type=feature_type, feature_coord=feature_coord)"
   ]
  },
  {
   "cell_type": "code",
   "execution_count": 3,
   "id": "08ee35e3",
   "metadata": {},
   "outputs": [],
   "source": [
    "# loading data\n",
    "DATA_DIR = \"facial_expressions/data\"\n",
    "IMAGE_DIR = \"facial_expressions/images\"\n",
    "data = pd.read_csv(f'{DATA_DIR}/legend.csv')\n",
    "data['emotion'] = data['emotion'].str.lower()\n",
    "# prepping datasets\n",
    "X_temp = []\n",
    "# ran into too many files open error: https://stackoverflow.com/questions/29234413/too-many-open-files-error-when-opening-and-loading-images-in-pillow\n",
    "# find the minimum width and height and I can resize all images to that shape\n",
    "min_width = 1000\n",
    "min_height = 1000\n",
    "for image in data['image']:\n",
    "    temp = Image.open(IMAGE_DIR + '/' + image)\n",
    "    keep = temp.copy().convert('L')\n",
    "    min_width = min(min_width, keep.size[0])\n",
    "    min_height = min(min_height, keep.size[1])\n",
    "    X_temp.append(keep)\n",
    "    temp.close()\n",
    "images = np.array([np.asarray(image.resize((min_width, min_height))) for image in X_temp])"
   ]
  },
  {
   "cell_type": "code",
   "execution_count": 4,
   "id": "f179fe4e",
   "metadata": {},
   "outputs": [],
   "source": [
    "# computing the features\n",
    "feature_types = ['type-2-x', 'type-2-y','type-3-x', 'type-3-y','type-4']\n",
    "# build a computation graph using Dask. This allows the use of multiple\n",
    "# CPU cores later during the actual computation\n",
    "X = delayed(extract_feature_image(img, feature_types) for img in images)\n",
    "\n",
    "# compute the result\n",
    "t_start = time()\n",
    "X = np.array(X.compute(scheduler='single-threaded'))\n",
    "time_full_feature_comp = time() - t_start\n",
    "\n",
    "# label images with emotion\n",
    "Y = np.array(data['emotion'])\n",
    "\n",
    "# spliting data in to training and validation sets\n",
    "split_factor = 0.8\n",
    "X_train, X_test, Y_train, Y_test = train_test_split(X, Y, train_size=split_factor, stratify=Y)"
   ]
  },
  {
   "cell_type": "code",
   "execution_count": 5,
   "id": "efc79f1f-4409-4699-9e32-84a6c495551e",
   "metadata": {},
   "outputs": [],
   "source": [
    "# extract all possible features\n",
    "feature_coord, feature_type = haar_like_feature_coord(width=images.shape[2],height=images.shape[1],feature_type=feature_types)\n",
    "\n",
    "# train an adaboost classifier, tried n_estimators = 50 and n_estimators = 100 but took even longer\n",
    "# and accuracy rate remained the same\n",
    "clf = AdaBoostClassifier(n_estimators=30)\n",
    "t_start = time()\n",
    "clf.fit(X_train, Y_train)\n",
    "time_full_train = time() - t_start"
   ]
  },
  {
   "cell_type": "code",
   "execution_count": 6,
   "id": "eddec37e",
   "metadata": {},
   "outputs": [],
   "source": [
    "# calculate accuracy rate\n",
    "accuracy_rate = clf.score(X, Y)\n",
    "training_error = 1-clf.score(X_train, Y_train)\n",
    "testing_error = 1-clf.score(X_test, Y_test)"
   ]
  },
  {
   "cell_type": "code",
   "execution_count": 7,
   "id": "b8bd4737",
   "metadata": {},
   "outputs": [
    {
     "data": {
      "image/png": "[encoded data removed]",
      "text/plain": [
       "<Figure size 640x480 with 6 Axes>"
      ]
     },
     "metadata": {},
     "output_type": "display_data"
    }
   ],
   "source": [
    "# sort features in order of importance and plot the six most significant\n",
    "idx_sorted = np.argsort(clf.feature_importances_)[::-1]\n",
    "fig, axes = plt.subplots(3, 2)\n",
    "for idx, ax in enumerate(axes.ravel()):\n",
    "    image = images[10]\n",
    "    image = draw_haar_like_feature(image, 0, 0,\n",
    "                                   images.shape[2],\n",
    "                                   images.shape[1],\n",
    "                                   [feature_coord[idx_sorted[idx]]])\n",
    "    ax.imshow(image)\n",
    "    ax.set_xticks([])\n",
    "    ax.set_yticks([])\n",
    "\n",
    "_ = fig.suptitle('The most important features')\n",
    "plt.show()"
   ]
  },
  {
   "cell_type": "code",
   "execution_count": 8,
   "id": "b6243a88",
   "metadata": {},
   "outputs": [
    {
     "name": "stdout",
     "output_type": "stream",
     "text": [
      "Computing the full feature set took 1134.282s, plus 1995.389s training with an accuracy rate of 0.61, training error of 0.39, and testing error of 0.38. \n"
     ]
    }
   ],
   "source": [
    "summary = ( f'Computing the full feature set took '\n",
    "            f'{time_full_feature_comp:.3f}s, '\n",
    "            f'plus {time_full_train:.3f}s training '\n",
    "            f'with an accuracy rate of {accuracy_rate:.2f}, '\n",
    "            f'training error of {training_error:.2f}, '\n",
    "            f'and testing error of {testing_error:.2f}. '\n",
    "          )\n",
    "print(summary)\n",
    "plt.show()"
   ]
  },
  {
   "cell_type": "code",
   "execution_count": null,
   "id": "6f2dd95d",
   "metadata": {},
   "outputs": [],
   "source": []
  }
 ],
 "metadata": {
  "kernelspec": {
   "display_name": "Python 3 (ipykernel)",
   "language": "python",
   "name": "python3"
  },
  "language_info": {
   "codemirror_mode": {
    "name": "ipython",
    "version": 3
   },
   "file_extension": ".py",
   "mimetype": "text/x-python",
   "name": "python",
   "nbconvert_exporter": "python",
   "pygments_lexer": "ipython3",
   "version": "3.10.7"
  }
 },
 "nbformat": 4,
 "nbformat_minor": 5
}
