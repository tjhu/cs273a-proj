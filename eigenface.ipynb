{
 "cells": [
  {
   "cell_type": "code",
   "execution_count": 1,
   "id": "ca05ac35",
   "metadata": {},
   "outputs": [],
   "source": [
    "from matplotlib import pyplot as plt\n",
    "import numpy as np\n",
    "from numpy import atleast_2d as twod\n",
    "import pandas as pd\n",
    "from skimage import color\n",
    "import pathlib"
   ]
  },
  {
   "cell_type": "code",
   "execution_count": 42,
   "id": "9f8bd932",
   "metadata": {},
   "outputs": [],
   "source": [
    "# Loading data\n",
    "DATA_DIR = \"facial_expressions/data\"\n",
    "IMAGE_DIR = \"facial_expressions/images\"\n",
    "data = pd.read_csv(f'{DATA_DIR}/legend.csv')\n",
    "data['emotion'] = data['emotion'].str.lower()\n",
    "data['image'] = np.array([plt.imread(IMAGE_DIR + '/' + image) for image in data['image']], dtype=object)\n",
    "data['image'] = np.array([color.rgb2gray(image) if len(image.shape)==3 else image for image in data['image']], dtype=object)"
   ]
  },
  {
   "cell_type": "code",
   "execution_count": 35,
   "id": "233ba0b8",
   "metadata": {},
   "outputs": [],
   "source": [
    "# further transform the image data into column vectors.\n",
    "# Steps from Wikipedia: https://en.wikipedia.org/wiki/Eigenface\n",
    "# All images should be resampled to a common pixel resolution\n",
    "# Each image will be treated as a vector, concatenate all rows in an image to a single column\n",
    "# Store all images in the training set into one matrix, T\n",
    "Y = np.array(data['emotion'])\n",
    "classes = np.array(set(Y))\n",
    "# Spliting data in to training and validation sets\n",
    "split_factor = 0.8\n",
    "stop = int(split_factor * len(X))\n",
    "Xtr,Xva = X[:stop],X[stop:]\n",
    "Ytr,Yva = Y[:stop],Y[stop:]"
   ]
  },
  {
   "cell_type": "code",
   "execution_count": 43,
   "id": "55d2361d",
   "metadata": {},
   "outputs": [],
   "source": [
    "# Train the model\n",
    "# Calculate average image and subtract that from each original image/column in T\n",
    "# Calculate the eigenvectors and eigenvalues of the covariance matrix of the new matrix\n",
    "# Sort eigenvalues in descending order\n",
    "# print(image.flatten().shape)\n"
   ]
  },
  {
   "cell_type": "code",
   "execution_count": 99,
   "id": "736db726",
   "metadata": {},
   "outputs": [],
   "source": [
    "# Use the train model to predict emotion on validation data set\n",
    "# Calculate performance"
   ]
  },
  {
   "cell_type": "code",
   "execution_count": null,
   "id": "0bb0adc6",
   "metadata": {},
   "outputs": [],
   "source": []
  }
 ],
 "metadata": {
  "kernelspec": {
   "display_name": "Python 3 (ipykernel)",
   "language": "python",
   "name": "python3"
  },
  "language_info": {
   "codemirror_mode": {
    "name": "ipython",
    "version": 3
   },
   "file_extension": ".py",
   "mimetype": "text/x-python",
   "name": "python",
   "nbconvert_exporter": "python",
   "pygments_lexer": "ipython3",
   "version": "3.10.7"
  }
 },
 "nbformat": 4,
 "nbformat_minor": 5
}
