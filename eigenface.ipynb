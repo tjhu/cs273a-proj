{
 "cells": [
  {
   "cell_type": "code",
   "execution_count": 1,
   "id": "ca05ac35",
   "metadata": {},
   "outputs": [],
   "source": [
    "from matplotlib import pyplot as plt\n",
    "import numpy as np\n",
    "import scipy as sp\n",
    "import pandas as pd\n",
    "from PIL import Image\n",
    "import pathlib"
   ]
  },
  {
   "cell_type": "code",
   "execution_count": 2,
   "id": "9f8bd932",
   "metadata": {},
   "outputs": [],
   "source": [
    "# loading data\n",
    "DATA_DIR = \"facial_expressions/data\"\n",
    "IMAGE_DIR = \"facial_expressions/images\"\n",
    "data = pd.read_csv(f'{DATA_DIR}/legend.csv')\n",
    "data['emotion'] = data['emotion'].str.lower()"
   ]
  },
  {
   "cell_type": "code",
   "execution_count": 3,
   "id": "233ba0b8",
   "metadata": {},
   "outputs": [],
   "source": [
    "# prepping training datasets\n",
    "X = []\n",
    "# ran into too many files open error: https://stackoverflow.com/questions/29234413/too-many-open-files-error-when-opening-and-loading-images-in-pillow\n",
    "# find the minimum width and height and I can resize all images to that shape\n",
    "min_width = 1000\n",
    "min_height = 1000\n",
    "for image in data['image']:\n",
    "    temp = Image.open(IMAGE_DIR + '/' + image)\n",
    "    keep = temp.copy().convert('L')\n",
    "    min_width = min(min_width, keep.size[0])\n",
    "    min_height = min(min_height, keep.size[1])\n",
    "    X.append(keep)\n",
    "    temp.close()\n",
    "Y = np.array(data['emotion'])\n",
    "classes = np.array(set(Y))\n",
    "# spliting data in to training and validation sets\n",
    "split_factor = 0.8\n",
    "stop = int(split_factor * len(X))\n",
    "Xtr,Xva = X[:stop],X[stop:]\n",
    "Ytr,Yva = Y[:stop],Y[stop:]"
   ]
  },
  {
   "cell_type": "code",
   "execution_count": 4,
   "id": "ef829b2c",
   "metadata": {},
   "outputs": [],
   "source": [
    "# Training\n",
    "# steps from Wikipedia: https://en.wikipedia.org/wiki/Eigenface\n",
    "# all images should be resampled to a common pixel resolution\n",
    "Xtr = [np.asarray(image.resize((min_width, min_height))) for image in Xtr]\n",
    "# each image will be treated as a vector, concatenate all rows in an image to a single column\n",
    "# store all images in the training set into one matrix, T\n",
    "T = np.array([image.flatten() for image in Xtr])"
   ]
  },
  {
   "cell_type": "code",
   "execution_count": 5,
   "id": "8b55c8fa",
   "metadata": {},
   "outputs": [
    {
     "data": {
      "image/png": "[encoded data removed]",
      "text/plain": [
       "<Figure size 640x480 with 1 Axes>"
      ]
     },
     "metadata": {},
     "output_type": "display_data"
    }
   ],
   "source": [
    "# calculates the mean/average face\n",
    "average_face = np.mean(T,0)\n",
    "average_face_image = np.reshape(average_face, (min_height, min_width))\n",
    "plt.figure()\n",
    "plt.title('Average Face')\n",
    "plt.imshow(average_face_image, cmap=\"gray\")\n",
    "plt.axis('off')\n",
    "plt.show()\n",
    "# subtract mean face from each original image in T\n",
    "T = T - average_face\n",
    "# obtain the covariance matrix, S\n",
    "S = np.cov(T.T)\n",
    "# obtain eigenvectors and eigenvalues from the covariance matrix\n",
    "eigenvalues,eigenvectors = sp.linalg.eig(S)\n",
    "# sort the eigenvalues in descending order and arrange eigenvectors accordingly.\n",
    "# went to stackoverflow for help: https://stackoverflow.com/questions/8092920/sort-eigenvalues-and-associated-eigenvectors-after-using-numpy-linalg-eig-in-pyt\n",
    "idx = eigenvalues.argsort()[::-1]   \n",
    "eigenvalues = eigenvalues[idx]\n",
    "eigenvectors = eigenvectors[:,idx]"
   ]
  },
  {
   "cell_type": "code",
   "execution_count": 7,
   "id": "736db726",
   "metadata": {},
   "outputs": [
    {
     "name": "stdout",
     "output_type": "stream",
     "text": [
      "89269\n"
     ]
    }
   ],
   "source": [
    "# only some eigenfaces are needed for certain variance\n",
    "variance = 0.95\n",
    "comp_eigen_sum = 0\n",
    "eigen_sum = np.sum(eigenvalues)\n",
    "# k = number of principal components\n",
    "k = 1\n",
    "for i, eigenvalue in enumerate(eigenvalues):\n",
    "    comp_eigen_sum += eigenvalue\n",
    "    total_variance = comp_eigen_sum/eigen_sum\n",
    "    if total_variance > 0.95:\n",
    "        k += i\n",
    "print(k)"
   ]
  },
  {
   "cell_type": "code",
   "execution_count": null,
   "id": "641c9e2c",
   "metadata": {},
   "outputs": [],
   "source": []
  }
 ],
 "metadata": {
  "kernelspec": {
   "display_name": "Python 3 (ipykernel)",
   "language": "python",
   "name": "python3"
  },
  "language_info": {
   "codemirror_mode": {
    "name": "ipython",
    "version": 3
   },
   "file_extension": ".py",
   "mimetype": "text/x-python",
   "name": "python",
   "nbconvert_exporter": "python",
   "pygments_lexer": "ipython3",
   "version": "3.10.7"
  }
 },
 "nbformat": 4,
 "nbformat_minor": 5
}
